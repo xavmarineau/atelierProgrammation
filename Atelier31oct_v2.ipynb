{
  "nbformat": 4,
  "nbformat_minor": 0,
  "metadata": {
    "colab": {
      "provenance": [],
      "toc_visible": true,
      "collapsed_sections": [],
      "include_colab_link": true
    },
    "kernelspec": {
      "name": "python3",
      "display_name": "Python 3"
    },
    "language_info": {
      "name": "python"
    }
  },
  "cells": [
    {
      "cell_type": "markdown",
      "metadata": {
        "id": "view-in-github",
        "colab_type": "text"
      },
      "source": [
        "<a href=\"https://colab.research.google.com/github/xavmarineau/atelierProgrammation/blob/main/Atelier31oct_v2.ipynb\" target=\"_parent\"><img src=\"https://colab.research.google.com/assets/colab-badge.svg\" alt=\"Open In Colab\"/></a>"
      ]
    },
    {
      "cell_type": "markdown",
      "source": [
        "# Comment ça marche, un programme?\n",
        "Un ordinateur, d'un point de vue rudimentaire, comprend seulement des 0 et des 1 (des *bits*). Les programmes modernes peuvent contenir des centaines de milliers d'instructions. Écrire tout ça en séquences de 0 et de 1 sous une forme que peut comprendre l'ordinateur, ça serait vraiment long!\n",
        "\n",
        "![image.png](data:image/png;base64,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)\n",
        "\n",
        "Pour se simplifier la vie, les programmeurs ont créés les **langages de programmation**. Python en est un! De manière simplifié, l'humain écrit une suite d'instructions dans un fichier text en suivant une certaine syntaxe. Puis, à condition de ne pas avoir fait d'erreur dans l'écriture du programme, Python est capable de l'interpréter et de le traduire en langage machine. Python joue un peu le rôle d'un interprète entre deux personnes ne parlant pas la même langue."
      ],
      "metadata": {
        "id": "13oW0_HirRhU"
      }
    },
    {
      "cell_type": "markdown",
      "source": [
        "# C'est quoi, Colab? \n",
        "Un programme Python, concrètement, c'est un fichier .py contenant une série de lignes de code (d'instructions) qui seront interprétés et exécutées par Python. Ce programme pourrait être écrit dans n'importe quel éditeur de text (par exemple, TextEdit sur Mac ou Notepad sur Windows) et sauvegardé avec l'extension .py. Cependant, pour interpréter et exécuter ce fichier, il faut télécharger Python est s'assurer que l'installation fonctionne bien. Ne voulant pas se concentrer sur les divers problèmes techniques qui pourraient en résulter, nous avons décidé d'utiliser Google Colab. Essentiellement, Colab est un environnement intéractif et collaboratif où Python est déjà installé et prêt à rouler. Il reste seulement à écrire son code et cliquer sur \"Exécuter\"! \n",
        "\n",
        "*Si vous voulez apprendre à écrire et faire rouler des programmes localement sur votre ordinateur, n'hésitez pas à nous poser des questions après l'atelier, on pourra vous orienter.*"
      ],
      "metadata": {
        "id": "VHf_gK_Jt1Q_"
      }
    },
    {
      "cell_type": "markdown",
      "source": [
        "# Mon premier programme - affichage à l'écran\n",
        "Véritable rite de passage dans toute introduction à un nouveau langage de programmation, notre première tâche consistera à **faire rouler un programme vraiment simple affichant du texte à la console**.\n",
        "\n",
        "*La console, ou terminal, c'est l'endroit à partir duquel on fait rouler un programme, où on peut intérager avec celui-ci si des entrées sont requises et où on peut afficher du texte. Éventuellement, on peut construire des interfaces graphiques pour rendre le tout plus convivial.*\n",
        "\n",
        "Python possède plusieurs *fonctions* internes déjà écrites et prêtes à être utilisées. Une fonction, c'est un bout de code qui peut être réutilisé plusieurs fois dans un programme. On y revient!  \n",
        "\n",
        "Pour afficher une phrase dans la console, on utilise la commande **print** de Python. Dans l'exemple ci-dessous, on voit la bonne syntaxe à utiliser pour cette fonction. On appelle la fonction en écrivant print() et on lui donne en *argument* ce qu'on veut qu'elle affiche. Dans notre cas, on veut afficher une *chaine de caractères*, ou *string*. En Python, pour délimiter une *string*, on l'entoure de doubles guillemets \" \". \n",
        "\n",
        "Placez votre curseur sur la cellule de code ci-dessous et cliquez sur le bouton avec la flèche à gauche de la cellule de code pour lancer l'exécution de cette ligne."
      ],
      "metadata": {
        "id": "OImud-6cvUsE"
      }
    },
    {
      "cell_type": "code",
      "source": [
        "print(\"Hello World!\")"
      ],
      "metadata": {
        "id": "WAxxIe2xvqO1"
      },
      "execution_count": null,
      "outputs": []
    },
    {
      "cell_type": "markdown",
      "source": [
        "Que se passe-t-il si on rajoute une deuxième ligne de code pour afficher autre chose à l'écran?"
      ],
      "metadata": {
        "id": "VQBRz9A80C0X"
      }
    },
    {
      "cell_type": "code",
      "source": [
        "print(\"Hello World!\")\n",
        "print(\"Bonjour le monde!\")"
      ],
      "metadata": {
        "id": "fO-10Eg90S6-"
      },
      "execution_count": null,
      "outputs": []
    },
    {
      "cell_type": "markdown",
      "source": [
        "En exécutant le code ci-dessus, vous pouvez constater que chaque instruction print() affiche sur une nouvelle ligne la string donnée en entrée à la fonction, dans l'ordre. Cette idée est cruciale en programmation: le programme suit chaque ligne de code, dans l'ordre, et exécute l'instruction correspondante. Une ligne de code = une instruction."
      ],
      "metadata": {
        "id": "rIfZM9-v0Zgo"
      }
    },
    {
      "cell_type": "markdown",
      "source": [
        "Essayez d'écrire quelque-chose à l'écran en écrivant dans la cellule de code ci-dessous!"
      ],
      "metadata": {
        "id": "Nz6wqMpTgfec"
      }
    },
    {
      "cell_type": "code",
      "source": [],
      "metadata": {
        "id": "Zy0k3xTkgiWe"
      },
      "execution_count": null,
      "outputs": []
    },
    {
      "cell_type": "markdown",
      "source": [
        "# Assignation de variables\n",
        "Voyons maintenant le concept d'assignation de variables. Programmer n'aurait pas beaucoup de pertinence si on ne pouvait pas **mettre en mémoire des données** pour les réutiliser ultérieurement. \n",
        "\n",
        "En Python, il suffit d'écrire, par exemple,\n",
        "\n",
        "\n",
        "```\n",
        "x = 10\n",
        "```\n",
        "pour assigner la *valeur* 10 à la *variable* x. Lors d'une assignation, Python va d'abord calculer la valeur à droite si elle implique des opérations, puis assigner le résultat à la variable de gauche. \n",
        "\n",
        "En même temps, on introduit ici un nouveau type de donnée, les *entiers* (*int*), qui sont simplement des chiffres. Pour Python, il y a une différence entre 10 et \"10\": la première expression est un entier, tandis que la seconde est une string. Cette distinction importante peut être la source d'erreurs. Dans le code suivant, on aimerait assigner 10 et 25 à deux variables, stocker le résultat de leur addition dans une nouvelle variable et afficher le résultat. Lancez le code suivant et remarquez le résultat.\n",
        "\n",
        "\n",
        "\n"
      ],
      "metadata": {
        "id": "tAeu9jLG06y9"
      }
    },
    {
      "cell_type": "code",
      "source": [
        "x = 10\n",
        "y = \"25\"\n",
        "z = x+y\n",
        "print(z)"
      ],
      "metadata": {
        "id": "4mW2Z2xs1c5f"
      },
      "execution_count": null,
      "outputs": []
    },
    {
      "cell_type": "markdown",
      "source": [
        "Python nous indique qu'il y a un erreur de type de données: on ne peut pas utiliser l'opération + sur, à gauche, un entier et à droite, un string. Essayez de modifier le code ci-dessus pour corriger l'erreur et relancez le pour voir si votre modification fonctionne.\n",
        "\n",
        "Dans ce contexte, l'erreur peut sembler un peu artificielle, mais quand un programme comporte des centaines de lignes de code, il peut être difficile de s'y retrouver. Il est donc important d'apprendre à comprendre les messages d'erreur affichés par Python. En fait, un programmeur passe la plupart de son temps à chercher et réparer des erreurs!"
      ],
      "metadata": {
        "id": "eFCD2rzH3MOf"
      }
    },
    {
      "cell_type": "markdown",
      "source": [
        "Nous venons de voir l'addition de deux nombres. Voici les autres opérations arithmétiques élémentaires qu'on peut effectuer sur des chiffres dans Python:\n",
        "\n",
        "\n",
        "*   Addition: +\n",
        "*   Soustraction: -\n",
        "*   Multiplication: *\n",
        "*   Division: /\n",
        "*   Exponentiation: **\n",
        "\n"
      ],
      "metadata": {
        "id": "oprc8qgc4kYn"
      }
    },
    {
      "cell_type": "markdown",
      "source": [
        "En quelques lignes de code, assignez les valeurs 10 et 40 à deux variables différentes et effectuez l'opération de soustraire la première valeur à 3 fois la deuxième, affichant le résultant à l'écran. "
      ],
      "metadata": {
        "id": "GAZ6xrZVguc1"
      }
    },
    {
      "cell_type": "code",
      "source": [],
      "metadata": {
        "id": "r4jVWXJJhGAB"
      },
      "execution_count": null,
      "outputs": []
    },
    {
      "cell_type": "markdown",
      "source": [
        "# Comparaison d'expressions et contrôle de flux\n",
        "Dans la vraie vie, on effectue souvent nos choix de manière logique: s'il fait beau, j'irai à la plage; sinon, j'irai au cinéma. Comment traduire cette logique dans un programme? On utilise des opérateurs de comparaison et des expressions de contrôle de flux.\n"
      ],
      "metadata": {
        "id": "Vw1pi2zZ5BRZ"
      }
    },
    {
      "cell_type": "markdown",
      "source": [
        "On peut vérifier si deux expressions sont égales avec l'opérateur ==. D'abord, Python évalue si besoin les expressions des deux côtés de l'opérateur, puis compare les résultats et retourne soit True (vrai) ou false (faux). Voyons ce que ça donne concrètement."
      ],
      "metadata": {
        "id": "13tdO-Tc6dBV"
      }
    },
    {
      "cell_type": "code",
      "source": [
        "premierNombre = 10\n",
        "deuxiemeNombre = 20\n",
        "premierNombre*2 == 20"
      ],
      "metadata": {
        "id": "dMsjoH3A63lN"
      },
      "execution_count": null,
      "outputs": []
    },
    {
      "cell_type": "markdown",
      "source": [
        "On remarque que le conditionnel évalue à True, puisque effectivement, 10*2 est égal à 20. \n",
        "\n",
        "*Il ne faut pas confondre =, qui est l'opérateur d'assignation, avec ==, qui est l'opérateur de comparaison.*"
      ],
      "metadata": {
        "id": "PKeGqVEh7EQK"
      }
    },
    {
      "cell_type": "markdown",
      "source": [
        "D'autres opérateurs de comparaisons existent. Par exemple, pour les chiffres, on peut utiliser...\n",
        "* Égalité: ==\n",
        "* Pas égal: !=\n",
        "* Plus grand que: >\n",
        "* Plus grand ou égal que: >=\n",
        "* Plus petit que: <\n",
        "* Plus petit ou égal que: <="
      ],
      "metadata": {
        "id": "T4GcnYdx74Wg"
      }
    },
    {
      "cell_type": "markdown",
      "source": [
        "On peut même comparer des chaines de caractères. Examinons ensemble le code suivant, qui introduit en même temps le contrôle de flux. Portez attention aux différents niveaux d'indentation."
      ],
      "metadata": {
        "id": "YOAGw7Og8WG6"
      }
    },
    {
      "cell_type": "code",
      "source": [
        "nom = \"Élisabeth\"\n",
        "\n",
        "if(nom == \"Judith\"):\n",
        "  print(\"Bienvenue à la formation, Judith!\")\n",
        "\n",
        "elif(nom == \"Michael\"):\n",
        "  print(\"Bienvenue à la formation, Michael!\")\n",
        "  \n",
        "else:\n",
        "  print(nom + \", vous n'êtes pas inscrit(e) à la formation.\")"
      ],
      "metadata": {
        "id": "vdKWKjl_8xB0"
      },
      "execution_count": null,
      "outputs": []
    },
    {
      "cell_type": "markdown",
      "source": [
        "Dans ce cas-ci, le code aurait pu être plus succint, comme le démontre le code ci-dessous. Remarquez l'utilisation du **or** (ou) dans le **if**. Cela indique que si l'une des conditions énumérée est respectée, donc si au moins une des expressions évalue à True, l'expression globale retourne True. Sinon (si aucune condition n'évalue à True), l'expression retourne False. Dans ce cas-ci, la variable nom n'égale ni Judith, ni Michael, et donc on passe au **else**."
      ],
      "metadata": {
        "id": "siDjiC-T9Vm3"
      }
    },
    {
      "cell_type": "code",
      "source": [
        "nom = \"Élisabeth\"\n",
        "if(nom == \"Judith\" or nom == \"Michael\"):\n",
        "  print(\"Bienvenue à la formation, \" + nom + \"!\")\n",
        "else:\n",
        "  print(nom + \", vous n'êtes pas inscrit(e) à la formation.\")"
      ],
      "metadata": {
        "id": "ezc4bD0G9Z5Q"
      },
      "execution_count": null,
      "outputs": []
    },
    {
      "cell_type": "markdown",
      "source": [
        "Au lieu d'utiliser **or** (ou), on peut utiliser **and** (et). Dans ce cas, chaque expression doit être vraie pour que l'expression globale évalue à True. Examinez le code ci-dessous et essayez de répondre aux questions en commentaire (retourne (True/False) car?)"
      ],
      "metadata": {
        "id": "Wu4Am13r-Mlz"
      }
    },
    {
      "cell_type": "code",
      "source": [
        "print(10*2 == 20 and 3 == 3 and 5 == 6) # retourne ____ car ____\n",
        "print(10/2 == 5 and 3*4 == 12 and 1 == 1) # retourne ____ car ____"
      ],
      "metadata": {
        "id": "1p4_92FN-XsJ"
      },
      "execution_count": null,
      "outputs": []
    },
    {
      "cell_type": "markdown",
      "source": [
        "# Saisie de données\n",
        "Comment intéragir avec l'utilisateur en temps réel lors de l'exécution d'un programme? On peut utiliser la commande *input* pour le faire. La syntaxe est semblable à celle de la commande print. Dans les paranthèses, on écrit un message qui sera affiché en console. Puis, le programme attend l'entrée d'un utilisateur et poursuivra dès que l'utilisateur touche \"Enter\" sur son clavier.\n",
        "Afin d'utiliser l'entrée de l'utilisateur, il faut la stocker dans une variable. Vous pouvez faire rouler le bout de code ci-dessous plusieurs fois, entrant du texte différent, pour voir le résultat."
      ],
      "metadata": {
        "id": "N9bqoUxa-x9u"
      }
    },
    {
      "cell_type": "code",
      "source": [
        "x = input(\"Entrez un message: \")\n",
        "print(\"Voici le message entré: \" + x)"
      ],
      "metadata": {
        "id": "adl0VWO0_YJZ"
      },
      "execution_count": null,
      "outputs": []
    },
    {
      "cell_type": "markdown",
      "source": [
        "IMPORTANT: L'entrée de l'utilisateur est toujours stocké sous forme de chaine de caractères (string). Si on veut plutôt l'utiliser sous forme numérique, il faudra explicitement la convertir."
      ],
      "metadata": {
        "id": "q0_wwMHeDFI1"
      }
    },
    {
      "cell_type": "code",
      "source": [
        "nombre_str = \"3\"     # nombre qu'on aimerait utiliser sous forme numérique pour des calculs\n",
        "nombre_int = int(nombre_str)   # conversion en entier\n",
        "print(nombre_int + 4)     # aucune erreur ici. Cependant, écrire print(nombre_str + 4) génèrerait une erreur."
      ],
      "metadata": {
        "id": "5qYkFMjUEcj3"
      },
      "execution_count": null,
      "outputs": []
    },
    {
      "cell_type": "markdown",
      "source": [
        "Demandez à l'utilisateur d'entrer un nombre. Si celui-ci est plus grand que 10, imprimez un message d'erreur à l'écran. Sinon, imprimez le chiffre entré. N'oubliez pas de convertir en entier avant la comparaison."
      ],
      "metadata": {
        "id": "nUx8dSuNhcTb"
      }
    },
    {
      "cell_type": "code",
      "source": [],
      "metadata": {
        "id": "MFf58KNZhpow"
      },
      "execution_count": null,
      "outputs": []
    },
    {
      "cell_type": "markdown",
      "source": [
        "# Boucles\n",
        "L'un des avantages des ordinateurs est sa capacité à effectuer une tâche répétitive de manière très rapide et efficace. Dans tous les langages de programmation, on effectue cela en utilisant des boucles. En Python, il y a deux types de boucles: les boucles **for** et les boucles **while**. Voyons comment utiliser la boucle **while**. Portez attention aux différents niveaux d'indentation. "
      ],
      "metadata": {
        "id": "9Aj8VERYANt7"
      }
    },
    {
      "cell_type": "code",
      "source": [
        "i = 0           # intialiser un compteur\n",
        "while i<10:     # condition pour notre boucle while\n",
        "  print(i)\n",
        "  i += 1        # raccourci pour i = i + 1      --> on incrémente notre compteur de 1 (attention aux boucles infinies!)\n",
        "\n",
        "print(\"Hors de la boucle\") # rendu ici, la boucle est terminée\n"
      ],
      "metadata": {
        "id": "2rR8HB9XBM_y"
      },
      "execution_count": null,
      "outputs": []
    },
    {
      "cell_type": "markdown",
      "source": [
        "Les boucles while peuvent présenter un certain danger si la condition d'arrêt de notre boucle est mal conçue ou si on oublie d'incrémenter un compteur, par exemple. On pourrait tomber dans une boucle sans fin qui, éventuellement, pourrait faire planter notre ordinateur! Essayez le code suivant. Vous pouvez y mettre fin en cliquant sur le bouton d'arrêt à gauche. Êtes-vous capable d'expliquer pourquoi cette boucle est infinie?"
      ],
      "metadata": {
        "id": "OI_agjzWCEL6"
      }
    },
    {
      "cell_type": "code",
      "source": [
        "i = 0\n",
        "while i > -1:\n",
        "  print(i)\n",
        "  i += 1\n",
        "\n",
        "print(\"Hors de la boucle\") # on ne se rendra jamais ici\n"
      ],
      "metadata": {
        "id": "0KOKNLyfCVWJ"
      },
      "execution_count": null,
      "outputs": []
    },
    {
      "cell_type": "markdown",
      "source": [
        "# Fonctions\n",
        "Jusqu'à présent, nous avons vu quelques fonctions fort utiles déjà disponibles dans Python. On peut cependant écrire nos propres fonctions, qu'on pourra ensuite appeler de la même manière que les fonctions comme print( ) ou input( ). Regardons ensemble le code suivant. Portez attention aux différents niveaux d'indentation. \n"
      ],
      "metadata": {
        "id": "ccVjEqBZFF5N"
      }
    },
    {
      "cell_type": "code",
      "source": [
        "# le mot clé def indique qu'on définit une nouvelle fonction\n",
        "def aire_triangle(base, hauteur):\n",
        "  return (base*hauteur)/2\n",
        "  \n",
        "# On prend en entrée deux données de l'utilisateur.\n",
        "# Remarquez qu'on convertit immédiatement les entrées en un format approprié pour notre fonction.\n",
        "# Un float est comme un int, mais peut inclure des chiffres avec décimales. \n",
        "# 3.1, 7.394, 6/4 sont des exemples de float.\n",
        "x = float(input(\"Entrez la longueur de la base du triangle: \"))\n",
        "y = float(input(\"Entrez la hauteur du triangle: \"))\n",
        "\n",
        "print(\"L'aire du triangle est de: \")\n",
        "print(aire_triangle(x,y))"
      ],
      "metadata": {
        "id": "uVeSLuhZFa77"
      },
      "execution_count": null,
      "outputs": []
    },
    {
      "cell_type": "markdown",
      "source": [
        "C'est toujours une bonne idée de créer des fonctions quand on pense réutiliser souvent un bout de code dans notre programme, ou simplement pour mieux compartimenter notre code et le rendre plus lisible."
      ],
      "metadata": {
        "id": "itJkG4ZGG0i-"
      }
    },
    {
      "cell_type": "markdown",
      "source": [
        "# Calcul d'IMC\n",
        "Essayons de mettre ensemble toutes nos connaissances avec un exercice où vous écrirez votre propre petit programme pour calculer l'IMC d'un utilisateur à partir de son poids et de sa grandeur. \n",
        "\n",
        "Rappel: $$IMC = \\frac{M}{T^2}$$ \n",
        "\n",
        "où $M$ est la masse en kilogrammes et $T$ est la taille en mètres.\n",
        "\n",
        "Votre tâche: \n",
        "1. Définir une nouvelle **fonction**, calcul_IMC, qui prendra en entrée deux nombres, le poids et la taille, et qui retournera l'IMC calculé à partir de ces deux nombres.\n",
        "2. Demander deux valeurs à l'utilisateur correspondant au poids et à la taille et afficher en sortie l'IMC calculé en appelant votre fonction.\n",
        "3. Afficher également l'interprétation de cet IMC, en utilisant le tableau suivant:\n",
        "![image.png](data:image/png;base64,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)\n",
        "4. BONUS (plus difficile): que se passe-t-il si l'utilisateur entre une donnée complètement farfelue, où s'il n'entre rien du tout et clique sur Enter? Par exemple, si l'utilisateur entre \"chat\", votre programme va probablement générer une erreur et planter, mais on aimerait que le programme continue à rouler jusqu'à ce qu'on obtienne une réponse valide de l'utilisateur. On peut régler ce problème de diverses manières; c'est la *gestion d'exceptions*. Une manière rudimentaire consiste à créer une boucle while et poser vos questions à l'utilisateur dans cette boucle. Tant que l'utilisateur n'entre pas une donnée valide pour le calcul de l'IMC (c-a-d un chiffre avec virgules ou pas), on redemande à l'utilisateur une entrée et on reste dans la boucle. Quand l'utilisateur a entré une donnée valide, on peut sortir de la boucle et continuer le programme. Si vous êtes vraiment intéressé à faire cette question, cherchez un peu sur le web pour trouver des pistes de solution.\n"
      ],
      "metadata": {
        "id": "ODcCVQHODRKJ"
      }
    },
    {
      "cell_type": "markdown",
      "source": [
        "# Modules et librairies\n",
        "C'est bien beau de créer nos propres fonctions, mais on ne veut pas devenir programmeurs, on veut devenir médecins! Dans le cadre de la recherche ou même de la clinique, il vaut souvent mieux utiliser le travail déjà fait par d'autres pour nous faciliter la vie. Un des avantages de travailler en Python est la grande quantité de librairies disponibles en open source. Ces librairies contiennent une multitide de fonctions prêtes à être utilisées."
      ],
      "metadata": {
        "id": "Pv7QR8s7K98g"
      }
    },
    {
      "cell_type": "markdown",
      "source": [
        "Voici une liste de librairies courament utilisées:\n",
        "\n",
        "*   **Pandas**: Traitement et analyse de données \n",
        "*   **NumPy**: Calcul scientifique et mathématique (algèbre linéaire, dérivées et intégrales numériques, etc)\n",
        "* **TensorFlow**: Beaucoup utilisé en I.A.!\n",
        "* **Matplotlib**: Création de graphiques\n",
        "\n",
        "Par ailleurs, à l'intérieur même de Python, plusieurs modules sont déjà installés. Par exemple, une valeur assez précise de $\\pi$ est disponible dans le module **math** de Python. \n",
        "\n",
        "Pour rendre disponible les fonctions d'un module ou d'une librairie disponibles, il faut d'abord l'importer. Puis, on utilise un point . après le nom de la librairie ou du module pour appeler un objet ou une fonction de cette librairie.\n"
      ],
      "metadata": {
        "id": "YOanZwmmLaCc"
      }
    },
    {
      "cell_type": "code",
      "source": [
        "import math\n",
        "print(3.141592653589793) # long!\n",
        "print(math.pi) # plus rapide!"
      ],
      "metadata": {
        "id": "pqqvcuYpNbHZ"
      },
      "execution_count": null,
      "outputs": []
    },
    {
      "cell_type": "markdown",
      "source": [
        "Certaines librairies sont constituées de plusieurs modules. Pour éviter d'importer une librairie complète, ce qui peut prendre des ressources et de l'espace mémoire, on peut importer seulement un module en particulier. Par exemple, numpy contient un module, random, qui permet de générer des nombres aléatoires. Faites rouler le programme quelques fois, vous verrez qu'un nouveau nombre est généré à chaque reprise."
      ],
      "metadata": {
        "id": "Wy9v-_qyOrcp"
      }
    },
    {
      "cell_type": "code",
      "source": [
        "from numpy import random    # on importe le module random de la librairie numpy\n",
        "\n",
        "x = random.randint(100) # générer un nombre aléatoire entre 0 et 100 avec la fonction randint du module random\n",
        "print(x)"
      ],
      "metadata": {
        "id": "VUU5MEvDOVvV"
      },
      "execution_count": null,
      "outputs": []
    },
    {
      "cell_type": "markdown",
      "source": [
        "On aurait tout aussi bien pu importer la librairie complète et utiliser la fonction randint en modifiant un peu notre syntaxe..."
      ],
      "metadata": {
        "id": "fXm6xefoPMPN"
      }
    },
    {
      "cell_type": "code",
      "source": [
        "import numpy\n",
        "\n",
        "x = numpy.random.randint(100)  # il faut préciser que random vient du numpy puisqu'on a importé la librairie complète!\n",
        "print(x)"
      ],
      "metadata": {
        "id": "dv7suwlePRsy"
      },
      "execution_count": null,
      "outputs": []
    },
    {
      "cell_type": "markdown",
      "source": [
        "# Conclusion\n",
        "Vous connaissez maintenant les bases de la programmation. Bien qu'on n'ait rien fait de révolutionnaire, on espère que ça vous donne une idée de ce qu'on peut faire avec la programmation et que ça vous donnera envie d'apprendre plus de concepts de programmation.  Ça peut être un super outil pour automatiser certaines tâches et les possibilités sont franchement infinies en programmation. "
      ],
      "metadata": {
        "id": "KmoBq0k1Peu5"
      }
    }
  ]
}